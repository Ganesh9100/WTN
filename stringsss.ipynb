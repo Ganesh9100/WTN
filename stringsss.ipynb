{
  "nbformat": 4,
  "nbformat_minor": 0,
  "metadata": {
    "colab": {
      "name": "stringsss",
      "provenance": [],
      "collapsed_sections": [],
      "authorship_tag": "ABX9TyO9L3SQqGqn/9MqsG1UmWXK",
      "include_colab_link": true
    },
    "kernelspec": {
      "name": "python3",
      "display_name": "Python 3"
    }
  },
  "cells": [
    {
      "cell_type": "markdown",
      "metadata": {
        "id": "view-in-github",
        "colab_type": "text"
      },
      "source": [
        "<a href=\"https://colab.research.google.com/github/Ganesh9100/wipro_training/blob/master/stringsss.ipynb\" target=\"_parent\"><img src=\"https://colab.research.google.com/assets/colab-badge.svg\" alt=\"Open In Colab\"/></a>"
      ]
    },
    {
      "cell_type": "code",
      "metadata": {
        "id": "BnwslGOlQkJS",
        "colab_type": "code",
        "colab": {}
      },
      "source": [
        ""
      ],
      "execution_count": null,
      "outputs": []
    },
    {
      "cell_type": "markdown",
      "metadata": {
        "id": "sigM09DHQrrE",
        "colab_type": "text"
      },
      "source": [
        "**s.capitalize()**Capitalize s # 'hello' => 'Hello'\n",
        "\n",
        "**s.lower()**Lowercase s # 'HELLO' => 'hello'\n",
        "\n",
        "**s.swapcase()**Swap cases of all characters in s # 'Hello' => \"hELLO\"\n",
        "\n",
        "**s.title()**Titlecase s # 'hello world' => 'Hello World'\n",
        "\n",
        "**s.upper()**Uppercase s # 'hello' => 'HELLO'"
      ]
    },
    {
      "cell_type": "code",
      "metadata": {
        "id": "BHjPrJ5CQnhF",
        "colab_type": "code",
        "colab": {
          "base_uri": "https://localhost:8080/",
          "height": 35
        },
        "outputId": "1f7d7c29-183c-4c97-aa25-cf98ad1fde00"
      },
      "source": [
        "s=\"ganesh raj\"\n",
        "s.capitalize()"
      ],
      "execution_count": null,
      "outputs": [
        {
          "output_type": "execute_result",
          "data": {
            "application/vnd.google.colaboratory.intrinsic+json": {
              "type": "string"
            },
            "text/plain": [
              "'Ganesh raj'"
            ]
          },
          "metadata": {
            "tags": []
          },
          "execution_count": 11
        }
      ]
    },
    {
      "cell_type": "code",
      "metadata": {
        "id": "J_viRdsIRqXp",
        "colab_type": "code",
        "colab": {
          "base_uri": "https://localhost:8080/",
          "height": 35
        },
        "outputId": "6c1635db-45ee-4584-cb5f-d82bce4dfeff"
      },
      "source": [
        "s.title()"
      ],
      "execution_count": null,
      "outputs": [
        {
          "output_type": "execute_result",
          "data": {
            "application/vnd.google.colaboratory.intrinsic+json": {
              "type": "string"
            },
            "text/plain": [
              "'Ganesh Raj'"
            ]
          },
          "metadata": {
            "tags": []
          },
          "execution_count": 12
        }
      ]
    },
    {
      "cell_type": "code",
      "metadata": {
        "id": "2d7hjq2eQ9sv",
        "colab_type": "code",
        "colab": {
          "base_uri": "https://localhost:8080/",
          "height": 35
        },
        "outputId": "5a305c9f-1e5a-4b8d-ef5f-a9968cb12665"
      },
      "source": [
        "s.lower()"
      ],
      "execution_count": null,
      "outputs": [
        {
          "output_type": "execute_result",
          "data": {
            "application/vnd.google.colaboratory.intrinsic+json": {
              "type": "string"
            },
            "text/plain": [
              "'ganesh raj'"
            ]
          },
          "metadata": {
            "tags": []
          },
          "execution_count": 8
        }
      ]
    },
    {
      "cell_type": "code",
      "metadata": {
        "id": "n_jVwsGfRg68",
        "colab_type": "code",
        "colab": {
          "base_uri": "https://localhost:8080/",
          "height": 35
        },
        "outputId": "e020de49-6b17-49af-ccaf-24eb317ae52a"
      },
      "source": [
        "s.upper()"
      ],
      "execution_count": null,
      "outputs": [
        {
          "output_type": "execute_result",
          "data": {
            "application/vnd.google.colaboratory.intrinsic+json": {
              "type": "string"
            },
            "text/plain": [
              "'GANESH RAJ'"
            ]
          },
          "metadata": {
            "tags": []
          },
          "execution_count": 9
        }
      ]
    },
    {
      "cell_type": "code",
      "metadata": {
        "id": "v0oVOY6HRimv",
        "colab_type": "code",
        "colab": {
          "base_uri": "https://localhost:8080/",
          "height": 35
        },
        "outputId": "a4864111-0b32-4f1b-83fb-323b6a0bd27d"
      },
      "source": [
        "s='GaNeSh RaJ'\n",
        "s.swapcase()"
      ],
      "execution_count": null,
      "outputs": [
        {
          "output_type": "execute_result",
          "data": {
            "application/vnd.google.colaboratory.intrinsic+json": {
              "type": "string"
            },
            "text/plain": [
              "'gAnEsH rAj'"
            ]
          },
          "metadata": {
            "tags": []
          },
          "execution_count": 10
        }
      ]
    },
    {
      "cell_type": "code",
      "metadata": {
        "id": "rFLtEOo8RoMd",
        "colab_type": "code",
        "colab": {
          "base_uri": "https://localhost:8080/",
          "height": 35
        },
        "outputId": "f01254bf-f20b-4e10-cfd1-c45404c3f172"
      },
      "source": [
        "s.upper()"
      ],
      "execution_count": null,
      "outputs": [
        {
          "output_type": "execute_result",
          "data": {
            "application/vnd.google.colaboratory.intrinsic+json": {
              "type": "string"
            },
            "text/plain": [
              "'GANESH RAJ'"
            ]
          },
          "metadata": {
            "tags": []
          },
          "execution_count": 13
        }
      ]
    },
    {
      "cell_type": "code",
      "metadata": {
        "id": "X-_MIai3RvvG",
        "colab_type": "code",
        "colab": {
          "base_uri": "https://localhost:8080/",
          "height": 72
        },
        "outputId": "6e2b1def-b032-4a2a-ea49-528f87229787"
      },
      "source": [
        "s=\"hArishGanesh\"\n",
        "print(min(s))\n",
        "print(max(s))\n",
        "print(len(s))"
      ],
      "execution_count": null,
      "outputs": [
        {
          "output_type": "stream",
          "text": [
            "A\n",
            "s\n",
            "12\n"
          ],
          "name": "stdout"
        }
      ]
    },
    {
      "cell_type": "code",
      "metadata": {
        "id": "GpviQs5DSBBW",
        "colab_type": "code",
        "colab": {
          "base_uri": "https://localhost:8080/",
          "height": 35
        },
        "outputId": "6fdc4e39-8b72-4145-cd99-807ffee98d83"
      },
      "source": [
        "s1=\"raje\"\n",
        "s1+s"
      ],
      "execution_count": null,
      "outputs": [
        {
          "output_type": "execute_result",
          "data": {
            "application/vnd.google.colaboratory.intrinsic+json": {
              "type": "string"
            },
            "text/plain": [
              "'rajehArishGanesh'"
            ]
          },
          "metadata": {
            "tags": []
          },
          "execution_count": 25
        }
      ]
    },
    {
      "cell_type": "code",
      "metadata": {
        "id": "mSWF7kMiSitM",
        "colab_type": "code",
        "colab": {
          "base_uri": "https://localhost:8080/",
          "height": 35
        },
        "outputId": "e25478b6-fc08-46fa-d748-d8e2018f3bc9"
      },
      "source": [
        "ss=\"AB\"\n",
        "ss2=\"ABCAA\"\n",
        "ss in ss2"
      ],
      "execution_count": null,
      "outputs": [
        {
          "output_type": "execute_result",
          "data": {
            "text/plain": [
              "True"
            ]
          },
          "metadata": {
            "tags": []
          },
          "execution_count": 68
        }
      ]
    },
    {
      "cell_type": "code",
      "metadata": {
        "id": "5yXvdFloVhMm",
        "colab_type": "code",
        "colab": {
          "base_uri": "https://localhost:8080/",
          "height": 35
        },
        "outputId": "1880c927-060d-4771-b435-87ae40da7ceb"
      },
      "source": [
        "ss2.count(ss)"
      ],
      "execution_count": null,
      "outputs": [
        {
          "output_type": "execute_result",
          "data": {
            "text/plain": [
              "1"
            ]
          },
          "metadata": {
            "tags": []
          },
          "execution_count": 69
        }
      ]
    },
    {
      "cell_type": "code",
      "metadata": {
        "id": "df4uuD5BSlsQ",
        "colab_type": "code",
        "colab": {
          "base_uri": "https://localhost:8080/",
          "height": 35
        },
        "outputId": "fe147ce7-a138-4ebf-bdc4-eca2fae340bd"
      },
      "source": [
        "ss*2"
      ],
      "execution_count": null,
      "outputs": [
        {
          "output_type": "execute_result",
          "data": {
            "application/vnd.google.colaboratory.intrinsic+json": {
              "type": "string"
            },
            "text/plain": [
              "'AA'"
            ]
          },
          "metadata": {
            "tags": []
          },
          "execution_count": 39
        }
      ]
    },
    {
      "cell_type": "code",
      "metadata": {
        "id": "8-5pf-UiTISC",
        "colab_type": "code",
        "colab": {
          "base_uri": "https://localhost:8080/",
          "height": 35
        },
        "outputId": "352b5b1f-c92e-49f9-e3c2-41a83310d0fb"
      },
      "source": [
        "ss2[0]"
      ],
      "execution_count": null,
      "outputs": [
        {
          "output_type": "execute_result",
          "data": {
            "application/vnd.google.colaboratory.intrinsic+json": {
              "type": "string"
            },
            "text/plain": [
              "'B'"
            ]
          },
          "metadata": {
            "tags": []
          },
          "execution_count": 40
        }
      ]
    },
    {
      "cell_type": "code",
      "metadata": {
        "id": "vf00TQj8TNnC",
        "colab_type": "code",
        "colab": {
          "base_uri": "https://localhost:8080/",
          "height": 35
        },
        "outputId": "6e4c7006-e749-477e-8658-98f805cfe244"
      },
      "source": [
        "ss2[1]"
      ],
      "execution_count": null,
      "outputs": [
        {
          "output_type": "execute_result",
          "data": {
            "application/vnd.google.colaboratory.intrinsic+json": {
              "type": "string"
            },
            "text/plain": [
              "'C'"
            ]
          },
          "metadata": {
            "tags": []
          },
          "execution_count": 41
        }
      ]
    },
    {
      "cell_type": "code",
      "metadata": {
        "id": "OJv2i4t1TOr4",
        "colab_type": "code",
        "colab": {
          "base_uri": "https://localhost:8080/",
          "height": 35
        },
        "outputId": "8cba0918-acb7-486d-d556-610c05fb8ad7"
      },
      "source": [
        "ss2[2]"
      ],
      "execution_count": null,
      "outputs": [
        {
          "output_type": "execute_result",
          "data": {
            "application/vnd.google.colaboratory.intrinsic+json": {
              "type": "string"
            },
            "text/plain": [
              "'A'"
            ]
          },
          "metadata": {
            "tags": []
          },
          "execution_count": 43
        }
      ]
    },
    {
      "cell_type": "code",
      "metadata": {
        "id": "8T7zpCaeTQB9",
        "colab_type": "code",
        "colab": {
          "base_uri": "https://localhost:8080/",
          "height": 35
        },
        "outputId": "f32356d9-8282-4788-f286-fbe7fd36395d"
      },
      "source": [
        "a=\"mynameisgane\"\n",
        "a[6::2]"
      ],
      "execution_count": null,
      "outputs": [
        {
          "output_type": "execute_result",
          "data": {
            "application/vnd.google.colaboratory.intrinsic+json": {
              "type": "string"
            },
            "text/plain": [
              "'ign'"
            ]
          },
          "metadata": {
            "tags": []
          },
          "execution_count": 53
        }
      ]
    },
    {
      "cell_type": "code",
      "metadata": {
        "id": "lkz2QBbsTiBr",
        "colab_type": "code",
        "colab": {
          "base_uri": "https://localhost:8080/",
          "height": 72
        },
        "outputId": "3ceaf79f-0592-4b29-85fd-241e2020599f"
      },
      "source": [
        "\n",
        "String ='ASTRING'\n",
        "\n",
        "s1 = slice(3) \n",
        "s2 = slice(1, 5, 2) \n",
        "s3 = slice(-1, -100, -2) \n",
        "\n",
        "print(String[s1]) \n",
        "print(String[s2]) \n",
        "print(String[s3]) \n"
      ],
      "execution_count": null,
      "outputs": [
        {
          "output_type": "stream",
          "text": [
            "AST\n",
            "SR\n",
            "GITA\n"
          ],
          "name": "stdout"
        }
      ]
    },
    {
      "cell_type": "code",
      "metadata": {
        "id": "iVJDMDNbU3Dd",
        "colab_type": "code",
        "colab": {
          "base_uri": "https://localhost:8080/",
          "height": 54
        },
        "outputId": "6f8713ec-a86f-4fa9-ceec-7a61355a4eb6"
      },
      "source": [
        "a=\" Ganesh Raj                \"\n",
        "print(len(a))\n",
        "a=a.strip()   # removes first and last blank spaces \n",
        "print(len(a))\n"
      ],
      "execution_count": null,
      "outputs": [
        {
          "output_type": "stream",
          "text": [
            "27\n",
            "10\n"
          ],
          "name": "stdout"
        }
      ]
    },
    {
      "cell_type": "code",
      "metadata": {
        "id": "dALzWdUTWAJf",
        "colab_type": "code",
        "colab": {}
      },
      "source": [
        "\n"
      ],
      "execution_count": null,
      "outputs": []
    },
    {
      "cell_type": "code",
      "metadata": {
        "id": "yV7KMVnSWkuk",
        "colab_type": "code",
        "colab": {
          "base_uri": "https://localhost:8080/",
          "height": 54
        },
        "outputId": "1420d353-c659-481a-eb7d-64e4d98c82bc"
      },
      "source": [
        "txt = \"ßorat GanesH\"\n",
        "\n",
        "x = txt.casefold()     # stronger than lower and all similar \n",
        "y=txt.lower()\n",
        "\n",
        "print(x)\n",
        "print(y)"
      ],
      "execution_count": null,
      "outputs": [
        {
          "output_type": "stream",
          "text": [
            "ssorat ganesh\n",
            "ßorat ganesh\n"
          ],
          "name": "stdout"
        }
      ]
    },
    {
      "cell_type": "code",
      "metadata": {
        "id": "yzaciJSIW7US",
        "colab_type": "code",
        "colab": {
          "base_uri": "https://localhost:8080/",
          "height": 35
        },
        "outputId": "78ba4b45-7f95-4e17-9f4e-a80b6ee6c983"
      },
      "source": [
        "a='ganeshrajharish'\n",
        "pattern='harish'\n",
        "replace_by=' raje '\n",
        "a.replace(pattern,replace_by)"
      ],
      "execution_count": null,
      "outputs": [
        {
          "output_type": "execute_result",
          "data": {
            "application/vnd.google.colaboratory.intrinsic+json": {
              "type": "string"
            },
            "text/plain": [
              "'ganeshraj raje '"
            ]
          },
          "metadata": {
            "tags": []
          },
          "execution_count": 87
        }
      ]
    },
    {
      "cell_type": "code",
      "metadata": {
        "id": "h0AdwBbQawIK",
        "colab_type": "code",
        "colab": {
          "base_uri": "https://localhost:8080/",
          "height": 35
        },
        "outputId": "1f9ab21f-53d4-45ec-8e68-f9224357437a"
      },
      "source": [
        "a.isalpha()   # only alphabet without space means true"
      ],
      "execution_count": null,
      "outputs": [
        {
          "output_type": "execute_result",
          "data": {
            "text/plain": [
              "True"
            ]
          },
          "metadata": {
            "tags": []
          },
          "execution_count": 88
        }
      ]
    },
    {
      "cell_type": "code",
      "metadata": {
        "id": "vnPJclEib7gD",
        "colab_type": "code",
        "colab": {
          "base_uri": "https://localhost:8080/",
          "height": 54
        },
        "outputId": "a056e57f-1e87-4ebe-f615-e128f6d59299"
      },
      "source": [
        "b='ganesh123'\n",
        "print(b.isalpha())\n",
        "print(b.isalnum())"
      ],
      "execution_count": 93,
      "outputs": [
        {
          "output_type": "stream",
          "text": [
            "False\n",
            "True\n"
          ],
          "name": "stdout"
        }
      ]
    },
    {
      "cell_type": "code",
      "metadata": {
        "id": "M_DcSbIIb_-V",
        "colab_type": "code",
        "colab": {
          "base_uri": "https://localhost:8080/",
          "height": 35
        },
        "outputId": "c3303ae1-b4bf-49ef-a172-381a3b817c00"
      },
      "source": [
        "b='ganesh raj'\n",
        "b.isalpha()"
      ],
      "execution_count": null,
      "outputs": [
        {
          "output_type": "execute_result",
          "data": {
            "text/plain": [
              "False"
            ]
          },
          "metadata": {
            "tags": []
          },
          "execution_count": 90
        }
      ]
    },
    {
      "cell_type": "code",
      "metadata": {
        "id": "JkktVD7JcDnz",
        "colab_type": "code",
        "colab": {
          "base_uri": "https://localhost:8080/",
          "height": 35
        },
        "outputId": "402d8fbe-71f6-443d-83a1-28bbf66fa5aa"
      },
      "source": [
        "a.isalpha()"
      ],
      "execution_count": 91,
      "outputs": [
        {
          "output_type": "execute_result",
          "data": {
            "text/plain": [
              "True"
            ]
          },
          "metadata": {
            "tags": []
          },
          "execution_count": 91
        }
      ]
    },
    {
      "cell_type": "code",
      "metadata": {
        "id": "uLAiZEbYedyf",
        "colab_type": "code",
        "colab": {
          "base_uri": "https://localhost:8080/",
          "height": 35
        },
        "outputId": "afe44e47-a649-43bd-9221-0e101c301feb"
      },
      "source": [
        "a='dcab'\n",
        "sorted(a)"
      ],
      "execution_count": 102,
      "outputs": [
        {
          "output_type": "execute_result",
          "data": {
            "text/plain": [
              "['a', 'b', 'c', 'd']"
            ]
          },
          "metadata": {
            "tags": []
          },
          "execution_count": 102
        }
      ]
    },
    {
      "cell_type": "code",
      "metadata": {
        "id": "7SdI0--Wg5Bz",
        "colab_type": "code",
        "colab": {
          "base_uri": "https://localhost:8080/",
          "height": 35
        },
        "outputId": "ba5c9a14-1ab7-41cc-83b1-2ebfd2367363"
      },
      "source": [
        "a=[10,54,12,60]\n",
        "a.sort()\n",
        "a"
      ],
      "execution_count": 104,
      "outputs": [
        {
          "output_type": "execute_result",
          "data": {
            "text/plain": [
              "[10, 12, 54, 60]"
            ]
          },
          "metadata": {
            "tags": []
          },
          "execution_count": 104
        }
      ]
    },
    {
      "cell_type": "code",
      "metadata": {
        "id": "jBIT9GUZhn_8",
        "colab_type": "code",
        "colab": {
          "base_uri": "https://localhost:8080/",
          "height": 35
        },
        "outputId": "65d9f08d-3158-4e89-aef7-fd1d214c0294"
      },
      "source": [
        "a='ganesh ganesh ganesh ganesh ganesh'\n",
        "a.replace('ganesh','harish',3)"
      ],
      "execution_count": 105,
      "outputs": [
        {
          "output_type": "execute_result",
          "data": {
            "application/vnd.google.colaboratory.intrinsic+json": {
              "type": "string"
            },
            "text/plain": [
              "'harish harish harish ganesh ganesh'"
            ]
          },
          "metadata": {
            "tags": []
          },
          "execution_count": 105
        }
      ]
    },
    {
      "cell_type": "code",
      "metadata": {
        "id": "AkHwkX90h5aI",
        "colab_type": "code",
        "colab": {
          "base_uri": "https://localhost:8080/",
          "height": 35
        },
        "outputId": "092f9dae-8f98-4ff4-a8f8-cc15f3a7cc7d"
      },
      "source": [
        "word = 'geeks for geeks'\n",
        "  \n",
        "# Returns highest index of the substring \n",
        "result = word.rfind('g') \n",
        "result"
      ],
      "execution_count": 110,
      "outputs": [
        {
          "output_type": "execute_result",
          "data": {
            "text/plain": [
              "10"
            ]
          },
          "metadata": {
            "tags": []
          },
          "execution_count": 110
        }
      ]
    },
    {
      "cell_type": "code",
      "metadata": {
        "id": "tucr0vkKihm8",
        "colab_type": "code",
        "colab": {}
      },
      "source": [
        "def fibo(n):\n",
        "    a, b = 1, 0\n",
        "    while a <= n:\n",
        "        print(a, end=' ')\n",
        "        a, b = a + b, a"
      ],
      "execution_count": 1,
      "outputs": []
    },
    {
      "cell_type": "code",
      "metadata": {
        "id": "QpdObrDiSjOQ",
        "colab_type": "code",
        "colab": {
          "base_uri": "https://localhost:8080/",
          "height": 35
        },
        "outputId": "62c58699-5233-41c2-b1d9-28745d4405c2"
      },
      "source": [
        "fibo(3)"
      ],
      "execution_count": 2,
      "outputs": [
        {
          "output_type": "stream",
          "text": [
            "1 1 2 3 "
          ],
          "name": "stdout"
        }
      ]
    },
    {
      "cell_type": "code",
      "metadata": {
        "id": "qhXAtwN9SpfN",
        "colab_type": "code",
        "colab": {
          "base_uri": "https://localhost:8080/",
          "height": 72
        },
        "outputId": "b144a31d-3995-44a5-f33c-eaa15ad63473"
      },
      "source": [
        "*a, b, c = 10, 20, 30, 40, 50\n",
        "print(a)\n",
        "print(b)\n",
        "print(c)"
      ],
      "execution_count": 5,
      "outputs": [
        {
          "output_type": "stream",
          "text": [
            "[10, 20, 30]\n",
            "40\n",
            "50\n"
          ],
          "name": "stdout"
        }
      ]
    },
    {
      "cell_type": "code",
      "metadata": {
        "id": "BUERQ0nvS9Qo",
        "colab_type": "code",
        "colab": {
          "base_uri": "https://localhost:8080/",
          "height": 35
        },
        "outputId": "9829bcb4-f4fd-47ff-8b81-57b8d74abbe7"
      },
      "source": [
        "a='ganesh'\n",
        "b=a[::-1]\n",
        "print(b)"
      ],
      "execution_count": 7,
      "outputs": [
        {
          "output_type": "stream",
          "text": [
            "hsenag\n"
          ],
          "name": "stdout"
        }
      ]
    },
    {
      "cell_type": "code",
      "metadata": {
        "id": "aaDTwkHyT6rg",
        "colab_type": "code",
        "colab": {
          "base_uri": "https://localhost:8080/",
          "height": 54
        },
        "outputId": "9ffa67c2-c54d-4d04-8b2e-604de62446f4"
      },
      "source": [
        "s='ganesh'\n",
        "a_list = [c for c in s if c not in 'aeiou']\n",
        "s = '1'.join(a_list)\n",
        "print(a_list)\n",
        "print(s)"
      ],
      "execution_count": 11,
      "outputs": [
        {
          "output_type": "stream",
          "text": [
            "['g', 'n', 's', 'h']\n",
            "g1n1s1h\n"
          ],
          "name": "stdout"
        }
      ]
    },
    {
      "cell_type": "code",
      "metadata": {
        "id": "rpLnqpSoUbYp",
        "colab_type": "code",
        "colab": {
          "base_uri": "https://localhost:8080/",
          "height": 126
        },
        "outputId": "5540ad32-0489-4549-aa64-3467e7b45dc3"
      },
      "source": [
        "row_of_asterisks = '*' * 4\n",
        "list_of_str = []\n",
        "for i in range(5):\n",
        "    list_of_str.append(row_of_asterisks)\n",
        "print(list_of_str)\n",
        "print('\\n'.join(list_of_str))    # its iterator "
      ],
      "execution_count": 18,
      "outputs": [
        {
          "output_type": "stream",
          "text": [
            "['****', '****', '****', '****', '****']\n",
            "****\n",
            "****\n",
            "****\n",
            "****\n",
            "****\n"
          ],
          "name": "stdout"
        }
      ]
    },
    {
      "cell_type": "code",
      "metadata": {
        "id": "L4NWMAwWe2TW",
        "colab_type": "code",
        "colab": {
          "base_uri": "https://localhost:8080/",
          "height": 35
        },
        "outputId": "da4e89ea-b57b-4b4e-df18-38459ca788d2"
      },
      "source": [
        "name = ['Pete', 'John', 'Elizabeth']\n",
        "age = [6, 23, 44]\n",
        "\n",
        "\n",
        "c=zip(name,age)\n",
        "print(dict(c))"
      ],
      "execution_count": 21,
      "outputs": [
        {
          "output_type": "stream",
          "text": [
            "{'Pete': 6, 'John': 23, 'Elizabeth': 44}\n"
          ],
          "name": "stdout"
        }
      ]
    },
    {
      "cell_type": "code",
      "metadata": {
        "id": "u-WHjXF2mlFR",
        "colab_type": "code",
        "colab": {}
      },
      "source": [
        ""
      ],
      "execution_count": null,
      "outputs": []
    }
  ]
}