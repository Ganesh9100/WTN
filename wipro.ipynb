{
  "nbformat": 4,
  "nbformat_minor": 0,
  "metadata": {
    "colab": {
      "name": "wipro.ipynb",
      "provenance": [],
      "collapsed_sections": []
    },
    "kernelspec": {
      "name": "python3",
      "display_name": "Python 3"
    }
  },
  "cells": [
    {
      "cell_type": "code",
      "metadata": {
        "id": "SmzvkyJEw-0A",
        "colab_type": "code",
        "colab": {
          "base_uri": "https://localhost:8080/",
          "height": 163
        },
        "outputId": "fa646784-8266-4b30-8c91-6e3798c45815"
      },
      "source": [
        "n=input()\n",
        "n=int(n)\n",
        "arr1=[]\n",
        "\n",
        "for i in range(n):\n",
        "  inp=input()\n",
        "  inp=int(inp)\n",
        "\n",
        "  arr1.append(inp)\n",
        "\n",
        "arr2=[]\n",
        "\n",
        "for i in range(n):\n",
        "  inp=input()\n",
        "  inp=int(inp)\n",
        "\n",
        "  arr2.append(inp)\n",
        "\n",
        "import numpy as np\n",
        "\n",
        "ans1=np.max(arr1)\n",
        "ans2=np.max(arr2)\n",
        "\n",
        "if ans1>ans2:\n",
        "  print(ans1)\n",
        "else:\n",
        "  print(ans2)\n",
        "\n",
        "\n"
      ],
      "execution_count": 2,
      "outputs": [
        {
          "output_type": "stream",
          "text": [
            "3\n",
            "5\n",
            "7\n",
            "10\n",
            "15\n",
            "2\n",
            "5\n",
            "15\n"
          ],
          "name": "stdout"
        }
      ]
    },
    {
      "cell_type": "code",
      "metadata": {
        "id": "iYIaH2XkxlXi",
        "colab_type": "code",
        "colab": {}
      },
      "source": [
        ""
      ],
      "execution_count": null,
      "outputs": []
    },
    {
      "cell_type": "code",
      "metadata": {
        "id": "Jleqm0z4DA1T",
        "colab_type": "code",
        "colab": {
          "base_uri": "https://localhost:8080/",
          "height": 54
        },
        "outputId": "e333220f-a2a5-4381-ab2e-79ff59a498c6"
      },
      "source": [
        "# last digit\n",
        "n=input()\n",
        "n=int(n)\n",
        "ans=n%10\n",
        "print(ans)"
      ],
      "execution_count": 5,
      "outputs": [
        {
          "output_type": "stream",
          "text": [
            "87\n",
            "7\n"
          ],
          "name": "stdout"
        }
      ]
    },
    {
      "cell_type": "code",
      "metadata": {
        "id": "EvdKSzM2DSMv",
        "colab_type": "code",
        "colab": {
          "base_uri": "https://localhost:8080/",
          "height": 54
        },
        "outputId": "5808fb08-9eab-4255-d77a-49b03500f9eb"
      },
      "source": [
        "# important \n",
        "\n",
        "n=input()\n",
        "n=int(n)\n",
        "count=0\n",
        "while(n>0):\n",
        "  \n",
        "\n",
        "  rem=n%10\n",
        "  count=count+1\n",
        "  if count==2:\n",
        "    print(rem)\n",
        "    break\n",
        "  #print(rem,end=\" \")\n",
        "  n=n//10\n"
      ],
      "execution_count": 19,
      "outputs": [
        {
          "output_type": "stream",
          "text": [
            "145761559598\n",
            "9\n"
          ],
          "name": "stdout"
        }
      ]
    },
    {
      "cell_type": "code",
      "metadata": {
        "id": "0sMdtvmsDjfm",
        "colab_type": "code",
        "colab": {}
      },
      "source": [
        ""
      ],
      "execution_count": 19,
      "outputs": []
    },
    {
      "cell_type": "code",
      "metadata": {
        "id": "FlRMX2eRD6ci",
        "colab_type": "code",
        "colab": {
          "base_uri": "https://localhost:8080/",
          "height": 54
        },
        "outputId": "3376b790-37eb-47aa-d84b-6924bc5fb86b"
      },
      "source": [
        "#sum of last 2 digit\n",
        "\n",
        "n=input()\n",
        "n=int(n)\n",
        "count=0\n",
        "\n",
        "digit=[]\n",
        "while(n>0):\n",
        "  dig=n%10\n",
        "  n=n//10\n",
        "  digit.append(dig)\n",
        "\n",
        "sum=digit[0]+digit[1]\n",
        "print(sum)\n",
        "  \n",
        "\n"
      ],
      "execution_count": 24,
      "outputs": [
        {
          "output_type": "stream",
          "text": [
            "753\n",
            "8\n"
          ],
          "name": "stdout"
        }
      ]
    },
    {
      "cell_type": "code",
      "metadata": {
        "id": "8gSjr-dlH7d8",
        "colab_type": "code",
        "colab": {
          "base_uri": "https://localhost:8080/",
          "height": 126
        },
        "outputId": "d7039e3d-013e-4b38-cfee-4a95f0c0634f"
      },
      "source": [
        "n=5\n",
        "inp=[]\n",
        "for i in range(n):\n",
        "  a=input()\n",
        "  a=int(a)\n",
        "  inp.append(a)\n",
        "\n",
        "count=0\n",
        "import numpy as np \n",
        "inp=np.abs(inp)\n",
        "\n",
        "\n",
        "for i in inp:\n",
        "  if i%2==0:                        # len(n) - count = odd number \n",
        "    count=count+1\n",
        "print(\"No of even number\",count)\n",
        "\n"
      ],
      "execution_count": 27,
      "outputs": [
        {
          "output_type": "stream",
          "text": [
            "-45\n",
            "-9\n",
            "7\n",
            "-42\n",
            "6\n",
            "No of even number 2\n"
          ],
          "name": "stdout"
        }
      ]
    },
    {
      "cell_type": "code",
      "metadata": {
        "id": "m9_wGBNdKSOA",
        "colab_type": "code",
        "colab": {
          "base_uri": "https://localhost:8080/",
          "height": 35
        },
        "outputId": "b131aeaa-91e3-49a0-9a44-f4f346c76c70"
      },
      "source": [
        "print(inp)"
      ],
      "execution_count": 28,
      "outputs": [
        {
          "output_type": "stream",
          "text": [
            "[45  9  7 42  6]\n"
          ],
          "name": "stdout"
        }
      ]
    },
    {
      "cell_type": "code",
      "metadata": {
        "id": "mkdGmXNpL6xp",
        "colab_type": "code",
        "colab": {
          "base_uri": "https://localhost:8080/",
          "height": 35
        },
        "outputId": "3aa59e84-8666-42ef-c0d7-c113c0583001"
      },
      "source": [
        "# prime number\n",
        "\n",
        "num = 9\n",
        "\n",
        "if num > 1: \n",
        "\n",
        "   for i in range(2, num):  \n",
        "       if (num % i) == 0: \n",
        "           print(num, \"is not a prime number\") \n",
        "           break\n",
        "   else: \n",
        "       print(num, \"is a prime number\") \n",
        "  \n",
        "else: \n",
        "   print(num, \"is not a prime number\")"
      ],
      "execution_count": 33,
      "outputs": [
        {
          "output_type": "stream",
          "text": [
            "9 is not a prime number\n"
          ],
          "name": "stdout"
        }
      ]
    },
    {
      "cell_type": "code",
      "metadata": {
        "id": "DPd6ySGcOU-u",
        "colab_type": "code",
        "colab": {}
      },
      "source": [
        ""
      ],
      "execution_count": null,
      "outputs": []
    },
    {
      "cell_type": "code",
      "metadata": {
        "id": "KSQxUjLPPPua",
        "colab_type": "code",
        "colab": {
          "base_uri": "https://localhost:8080/",
          "height": 35
        },
        "outputId": "d2067805-6efc-47fc-84f6-52a16ed31ae2"
      },
      "source": [
        "import numpy as np\n",
        "\n",
        "def fact(n):\n",
        "  n=np.abs(n)\n",
        "\n",
        "  if n == 0 :\n",
        "    return 1 \n",
        "    \n",
        "  if n is 1:\n",
        "    return 1\n",
        "  \n",
        "  else:\n",
        "    return n * fact(n-1)\n",
        "\n",
        "fact(-1)"
      ],
      "execution_count": 43,
      "outputs": [
        {
          "output_type": "execute_result",
          "data": {
            "text/plain": [
              "1"
            ]
          },
          "metadata": {
            "tags": []
          },
          "execution_count": 43
        }
      ]
    },
    {
      "cell_type": "code",
      "metadata": {
        "id": "kQIQoFhcPu69",
        "colab_type": "code",
        "colab": {
          "base_uri": "https://localhost:8080/",
          "height": 54
        },
        "outputId": "46d1df8f-9a6c-43c7-943a-f0b3c408d976"
      },
      "source": [
        "\n",
        "def fibonic(n):\n",
        "\n",
        "  a=0\n",
        "  b=1\n",
        "  print(a,end=\" \")\n",
        "  print(b,end=\" \")\n",
        "\n",
        "  if n==0:\n",
        "    return 0\n",
        "  elif n== 1:\n",
        "    return 1\n",
        "\n",
        "  else:\n",
        "    for i in range(2,n):\n",
        "\n",
        "      c=a+b\n",
        "      print(c,end=\" \")\n",
        "      a=b\n",
        "      b=c\n",
        "    print()\n",
        "    return print(\"the number at\",n,\"is\",c)\n",
        "\n",
        "\n",
        "fibonic(9)\n",
        "\n"
      ],
      "execution_count": 50,
      "outputs": [
        {
          "output_type": "stream",
          "text": [
            "0 1 1 2 3 5 8 13 21 \n",
            "the number at 9 is 21\n"
          ],
          "name": "stdout"
        }
      ]
    },
    {
      "cell_type": "code",
      "metadata": {
        "id": "GN5hmpacSQ3H",
        "colab_type": "code",
        "colab": {}
      },
      "source": [
        ""
      ],
      "execution_count": null,
      "outputs": []
    },
    {
      "cell_type": "code",
      "metadata": {
        "id": "CMmk-S2vRWFR",
        "colab_type": "code",
        "colab": {
          "base_uri": "https://localhost:8080/",
          "height": 72
        },
        "outputId": "c4c65ce8-4d84-4d19-a517-a564776a8c3b"
      },
      "source": [
        "def prime(n):\n",
        "  l=[]\n",
        "  for i in range(2,50):\n",
        "    for j in range(2,i):\n",
        "      if i % j == 0:\n",
        "        break \n",
        "    else:\n",
        "      l.append(i)\n",
        "  return l,l[n-1]\n",
        "  \n",
        "    \n",
        "p_list,n_th=prime(7)\n",
        "\n",
        "\n",
        "print(p_list)\n",
        "print()\n",
        "print(n_th)\n",
        "\n"
      ],
      "execution_count": 69,
      "outputs": [
        {
          "output_type": "stream",
          "text": [
            "[2, 3, 5, 7, 11, 13, 17, 19, 23, 29, 31, 37, 41, 43, 47]\n",
            "\n",
            "17\n"
          ],
          "name": "stdout"
        }
      ]
    },
    {
      "cell_type": "code",
      "metadata": {
        "id": "5VvE5HjhS0a_",
        "colab_type": "code",
        "colab": {}
      },
      "source": [
        ""
      ],
      "execution_count": 69,
      "outputs": []
    },
    {
      "cell_type": "code",
      "metadata": {
        "id": "82F-MqU2ZWfo",
        "colab_type": "code",
        "colab": {
          "base_uri": "https://localhost:8080/",
          "height": 35
        },
        "outputId": "d7410f4a-a4c3-4af1-cbd8-535d2c41ddea"
      },
      "source": [
        "# all digits count \n",
        "\n",
        "\n",
        "def count(n):\n",
        "\n",
        "  count=0\n",
        "  while(n>0):\n",
        "    dig=n%10\n",
        "    n=n//10\n",
        "    count=count+1\n",
        "  return count\n",
        "\n",
        "count(52344444444444)\n"
      ],
      "execution_count": 72,
      "outputs": [
        {
          "output_type": "execute_result",
          "data": {
            "text/plain": [
              "14"
            ]
          },
          "metadata": {
            "tags": []
          },
          "execution_count": 72
        }
      ]
    },
    {
      "cell_type": "code",
      "metadata": {
        "id": "slEnMam5S1--",
        "colab_type": "code",
        "colab": {
          "base_uri": "https://localhost:8080/",
          "height": 35
        },
        "outputId": "977e5e15-51ad-4c55-8ca4-2fc9628f99ef"
      },
      "source": [
        "# Non repeated digits of number \n",
        "\n",
        "import numpy as np\n",
        "\n",
        "def count(n):\n",
        "  if n==0:\n",
        "    return 1\n",
        "  if n<0:\n",
        "    n=np.abs(n)\n",
        "  \n",
        "\n",
        "  ll=set()\n",
        "  while(n>0):\n",
        "    dig=n%10\n",
        "    n=n//10\n",
        "    ll.add(dig)\n",
        "    #print(ll)\n",
        "  return len(ll)\n",
        "\n",
        "  \n",
        "\n",
        "count(-244)\n"
      ],
      "execution_count": 6,
      "outputs": [
        {
          "output_type": "execute_result",
          "data": {
            "text/plain": [
              "2"
            ]
          },
          "metadata": {
            "tags": []
          },
          "execution_count": 6
        }
      ]
    },
    {
      "cell_type": "code",
      "metadata": {
        "id": "zNZhLeGBaGmW",
        "colab_type": "code",
        "colab": {}
      },
      "source": [
        ""
      ],
      "execution_count": null,
      "outputs": []
    },
    {
      "cell_type": "code",
      "metadata": {
        "id": "XvolIff5bpvK",
        "colab_type": "code",
        "colab": {
          "base_uri": "https://localhost:8080/",
          "height": 35
        },
        "outputId": "f4a92c2f-9bd5-4084-958c-1f6355844476"
      },
      "source": [
        "def unique(n,digg):\n",
        "  chk=[]\n",
        "\n",
        "  while(n>0):\n",
        "    dig=n%10\n",
        "    n=n//10\n",
        "    chk.append(dig)\n",
        "  \n",
        "  return chk.count(digg)\n",
        "\n",
        "unique(1111646,6)\n"
      ],
      "execution_count": 11,
      "outputs": [
        {
          "output_type": "execute_result",
          "data": {
            "text/plain": [
              "2"
            ]
          },
          "metadata": {
            "tags": []
          },
          "execution_count": 11
        }
      ]
    },
    {
      "cell_type": "code",
      "metadata": {
        "id": "KmQtrMlecYYm",
        "colab_type": "code",
        "colab": {
          "base_uri": "https://localhost:8080/",
          "height": 35
        },
        "outputId": "ef8a6211-16db-4652-f4fe-33efd1ff9a5f"
      },
      "source": [
        "# sum o all digit iin n \n",
        "\n",
        "import numpy as np\n",
        "\n",
        "def summ(n):\n",
        "  sum=0\n",
        "  if n ==0:\n",
        "    return 0\n",
        "  if n<0:\n",
        "    n=np.abs(n)\n",
        "    return summ(n)\n",
        "  while(n>0):\n",
        "    dig=n%10\n",
        "    n=n//10\n",
        "    sum=sum+dig\n",
        "  return sum\n",
        "summ(-8965)"
      ],
      "execution_count": 18,
      "outputs": [
        {
          "output_type": "execute_result",
          "data": {
            "text/plain": [
              "28"
            ]
          },
          "metadata": {
            "tags": []
          },
          "execution_count": 18
        }
      ]
    },
    {
      "cell_type": "code",
      "metadata": {
        "id": "typ2jKlkioaZ",
        "colab_type": "code",
        "colab": {}
      },
      "source": [
        ""
      ],
      "execution_count": null,
      "outputs": []
    },
    {
      "cell_type": "code",
      "metadata": {
        "id": "4g_OfI7djPc2",
        "colab_type": "code",
        "colab": {
          "base_uri": "https://localhost:8080/",
          "height": 35
        },
        "outputId": "f66e0986-2489-47ad-e6d2-a23a69c50e2b"
      },
      "source": [
        "# sum of even digits in n \n",
        "\n",
        "def summ_even(n):\n",
        "  sum=0\n",
        "  if n==0:\n",
        "    return 0\n",
        "  if n<0:\n",
        "    import numpy as np\n",
        "    n=np.abs(n)\n",
        "    return summ_even(n)\n",
        "  while(n>0):\n",
        "    dig=n%10\n",
        "    n=n//10\n",
        "    if dig%2==0:\n",
        "      sum=sum+dig\n",
        "  return sum\n",
        "\n",
        "summ_even(-486)\n",
        "\n"
      ],
      "execution_count": 22,
      "outputs": [
        {
          "output_type": "execute_result",
          "data": {
            "text/plain": [
              "18"
            ]
          },
          "metadata": {
            "tags": []
          },
          "execution_count": 22
        }
      ]
    },
    {
      "cell_type": "code",
      "metadata": {
        "id": "3l1-gmxtj98s",
        "colab_type": "code",
        "colab": {
          "base_uri": "https://localhost:8080/",
          "height": 35
        },
        "outputId": "8834b889-6f02-4e70-ef04-50b24c9b5592"
      },
      "source": [
        "# to check the number is palindrome \n",
        "\n",
        "\n",
        "\n",
        "def palindrome(n):\n",
        "  if n==0:\n",
        "    return print(\"its palindrome\")\n",
        "  if n<0:\n",
        "    import numpy as np \n",
        "    n=np.abs(n)\n",
        "    return palindrome(n)\n",
        "  chk_palindrome=[]\n",
        "  while(n>0):\n",
        "    dig=n%10\n",
        "    n=n//10\n",
        "    chk_palindrome.append(dig)\n",
        "  \n",
        "  orginal=list(reversed(chk_palindrome))\n",
        "  if chk_palindrome == orginal:\n",
        "    return print(\"Its palindrome\")\n",
        "  else:\n",
        "    return print(\"No its not palindrome\")\n",
        "\n",
        "palindrome(00)"
      ],
      "execution_count": 33,
      "outputs": [
        {
          "output_type": "stream",
          "text": [
            "its palindrome\n"
          ],
          "name": "stdout"
        }
      ]
    },
    {
      "cell_type": "code",
      "metadata": {
        "id": "t5IqFYzvlPu1",
        "colab_type": "code",
        "colab": {
          "base_uri": "https://localhost:8080/",
          "height": 35
        },
        "outputId": "bd21b16e-c0a3-40fc-af91-3aba4ee85c6d"
      },
      "source": [
        "\n",
        " \n",
        "def second_word(word):\n",
        "\n",
        "  text=word\n",
        "  text=text.split()\n",
        "  return text[1].upper()\n",
        "\n",
        "second_word(\"Ganesh aB.\")"
      ],
      "execution_count": 40,
      "outputs": [
        {
          "output_type": "execute_result",
          "data": {
            "application/vnd.google.colaboratory.intrinsic+json": {
              "type": "string"
            },
            "text/plain": [
              "'AB.'"
            ]
          },
          "metadata": {
            "tags": []
          },
          "execution_count": 40
        }
      ]
    },
    {
      "cell_type": "code",
      "metadata": {
        "id": "Q8EXw7y7m9Bu",
        "colab_type": "code",
        "colab": {
          "base_uri": "https://localhost:8080/",
          "height": 54
        },
        "outputId": "af814df1-27e3-4ae1-c371-efa46521c1fc"
      },
      "source": [
        "# Python code to reverse a string \n",
        "# using loop \n",
        "\n",
        "def reverse(s):\n",
        "  str = \"\" \n",
        "  for i in s:\n",
        "    str = i+str\n",
        "  return str.lower()\n",
        "\n",
        "s = \"Geeksforgeeks\"\n",
        "\n",
        "\n",
        "print (s.lower()) \n",
        "\n",
        "print (\"The reversed       \",end=\"\") \n",
        "print (reverse(s)) \n"
      ],
      "execution_count": 54,
      "outputs": [
        {
          "output_type": "stream",
          "text": [
            "geeksforgeeks\n",
            "The reversed       skeegrofskeeg\n"
          ],
          "name": "stdout"
        }
      ]
    },
    {
      "cell_type": "code",
      "metadata": {
        "id": "FhHgnWH7oNI_",
        "colab_type": "code",
        "colab": {
          "base_uri": "https://localhost:8080/",
          "height": 35
        },
        "outputId": "2ab19007-29a1-482c-e154-71ea1f566592"
      },
      "source": [
        "def reversee(s):\n",
        "  s=s[::-1]    # start stop step ,, by default start is 0 ( blank ), stop is length of string(blank ) , -1 start from reverse\n",
        "  \n",
        "  return s\n",
        "reversee(\"ganesh\")"
      ],
      "execution_count": 56,
      "outputs": [
        {
          "output_type": "execute_result",
          "data": {
            "application/vnd.google.colaboratory.intrinsic+json": {
              "type": "string"
            },
            "text/plain": [
              "'hsenag'"
            ]
          },
          "metadata": {
            "tags": []
          },
          "execution_count": 56
        }
      ]
    },
    {
      "cell_type": "code",
      "metadata": {
        "id": "LJ9qfRKqqEBE",
        "colab_type": "code",
        "colab": {}
      },
      "source": [
        ""
      ],
      "execution_count": null,
      "outputs": []
    },
    {
      "cell_type": "code",
      "metadata": {
        "id": "NuRjk8ghotxn",
        "colab_type": "code",
        "colab": {}
      },
      "source": [
        "# most frequent digit \n",
        "\n",
        "\n",
        "def mfd(n):\n",
        "  if n == 0:\n",
        "    return 0 \n",
        "  if n<0:\n",
        "    import numpy as np\n",
        "    n=np.abs(n)\n",
        "  while(n>0):\n",
        "    dig=n%10\n",
        "    n=n//10\n",
        "    "
      ],
      "execution_count": null,
      "outputs": []
    },
    {
      "cell_type": "code",
      "metadata": {
        "id": "4RYBSXUzrA1K",
        "colab_type": "code",
        "colab": {
          "base_uri": "https://localhost:8080/",
          "height": 35
        },
        "outputId": "fa4a420c-ef80-4485-a486-ade20b40d4fe"
      },
      "source": [
        "\n",
        "from collections import Counter \n",
        "\n",
        "def most_frequent(List): \n",
        "\toccurence_count = Counter(List) \n",
        "\treturn occurence_count.most_common(1)[0][0]\n",
        "\t\n",
        "List = [3,3,2,1,2, 1, 2, 2, 1, 3] \n",
        "print(most_frequent(List)) \n"
      ],
      "execution_count": 107,
      "outputs": [
        {
          "output_type": "stream",
          "text": [
            "2\n"
          ],
          "name": "stdout"
        }
      ]
    },
    {
      "cell_type": "code",
      "metadata": {
        "id": "zeWxhXFrrGhW",
        "colab_type": "code",
        "colab": {
          "base_uri": "https://localhost:8080/",
          "height": 35
        },
        "outputId": "ea9f7c99-8381-4b04-a67e-92abb2082321"
      },
      "source": [
        "from collections import Counter\n",
        "lists=['A','A','A','B','B','a','ganesh?']\n",
        "chk=Counter(lists)\n",
        "chk.most_common()[0][0]"
      ],
      "execution_count": 111,
      "outputs": [
        {
          "output_type": "execute_result",
          "data": {
            "application/vnd.google.colaboratory.intrinsic+json": {
              "type": "string"
            },
            "text/plain": [
              "'A'"
            ]
          },
          "metadata": {
            "tags": []
          },
          "execution_count": 111
        }
      ]
    },
    {
      "cell_type": "code",
      "metadata": {
        "id": "AMh2g_twtT1E",
        "colab_type": "code",
        "colab": {
          "base_uri": "https://localhost:8080/",
          "height": 35
        },
        "outputId": "13cdcba1-263b-4e96-b5f1-4bd7a1798448"
      },
      "source": [
        "s = 'ganesh raj'\n",
        "np.prod([i+1 for i,v in enumerate(s) if v in ['a','e','i','o','u']])\n",
        "\n",
        "\n"
      ],
      "execution_count": 84,
      "outputs": [
        {
          "output_type": "execute_result",
          "data": {
            "text/plain": [
              "72"
            ]
          },
          "metadata": {
            "tags": []
          },
          "execution_count": 84
        }
      ]
    },
    {
      "cell_type": "code",
      "metadata": {
        "id": "0urdaUP6yaNJ",
        "colab_type": "code",
        "colab": {}
      },
      "source": [
        ""
      ],
      "execution_count": null,
      "outputs": []
    },
    {
      "cell_type": "code",
      "metadata": {
        "id": "pSf679ynz_ay",
        "colab_type": "code",
        "colab": {
          "base_uri": "https://localhost:8080/",
          "height": 35
        },
        "outputId": "ca2b4399-4dcd-46cd-e536-436ca9174b7f"
      },
      "source": [
        "def ppp(s):\n",
        "\n",
        "  def chk(n):\n",
        "    if n<10:\n",
        "      return n\n",
        "    else:\n",
        "      new_sum=0\n",
        "      while(n>0):\n",
        "        dig=n%10\n",
        "        n=n//10\n",
        "        new_sum=new_sum+dig\n",
        "      c=chk(new_sum)\n",
        "      return c\n",
        "\n",
        "  s=s.split()\n",
        "  tot=0\n",
        "  for i in s:\n",
        "    tot=len(i)+tot\n",
        "  \n",
        "  if tot<10:\n",
        "    return tot\n",
        "  else:\n",
        "    ans=chk(tot)\n",
        "    return ans\n",
        "  \n",
        "\n",
        "ppp(\"Ganesh raj is good boy\")"
      ],
      "execution_count": 98,
      "outputs": [
        {
          "output_type": "execute_result",
          "data": {
            "text/plain": [
              "9"
            ]
          },
          "metadata": {
            "tags": []
          },
          "execution_count": 98
        }
      ]
    },
    {
      "cell_type": "code",
      "metadata": {
        "id": "-QEs6xaB0tw0",
        "colab_type": "code",
        "colab": {}
      },
      "source": [
        ""
      ],
      "execution_count": 98,
      "outputs": []
    },
    {
      "cell_type": "code",
      "metadata": {
        "id": "cjAT40jR5ROv",
        "colab_type": "code",
        "colab": {
          "base_uri": "https://localhost:8080/",
          "height": 35
        },
        "outputId": "962d648c-df67-4bdf-b6e6-013c02ab524e"
      },
      "source": [
        "a=\"1234\"\n",
        "b=\"56\"\n",
        "\n",
        "a=int(a)\n",
        "b=int(b)\n",
        "c=a+b\n",
        "print(str(c))"
      ],
      "execution_count": 120,
      "outputs": [
        {
          "output_type": "stream",
          "text": [
            "1290\n"
          ],
          "name": "stdout"
        }
      ]
    },
    {
      "cell_type": "code",
      "metadata": {
        "id": "BFJoKCSaSrxb",
        "colab_type": "code",
        "colab": {}
      },
      "source": [
        ""
      ],
      "execution_count": null,
      "outputs": []
    },
    {
      "cell_type": "code",
      "metadata": {
        "id": "JST8ibs_Whxv",
        "colab_type": "code",
        "colab": {
          "base_uri": "https://localhost:8080/",
          "height": 35
        },
        "outputId": "d59d8395-ce7e-40e3-ee91-bca4b010b4e3"
      },
      "source": [
        "# Identify possible words \n",
        "\n",
        "input_dict= ['goo', 'bat', 'me', 'eat', 'goal', 'boy', 'run'] \n",
        "charSet = ['e', 'o', 'b', 'a', 'm', 'g', 'l'] \n",
        "\n",
        "\n",
        "def chk(s,letters):\n",
        "  word=letters\n",
        "  leng=len(s)\n",
        "  count=0\n",
        "  for i in s:\n",
        "    if i in word:\n",
        "      count=count+1\n",
        "  if count==leng:\n",
        "    return True\n",
        "  \n",
        "ans=[]\n",
        "j=-1\n",
        "for i in input_dict:\n",
        "  j=j+1\n",
        "  i=list(i)\n",
        "  if chk(i,charSet):\n",
        "    ans.append(input_dict[j])\n",
        "for i in ans:\n",
        "  print(i,end=\" \")\n",
        "\n",
        "\n",
        "\n",
        "\n",
        "\n"
      ],
      "execution_count": 5,
      "outputs": [
        {
          "output_type": "stream",
          "text": [
            "goo me goal "
          ],
          "name": "stdout"
        }
      ]
    },
    {
      "cell_type": "code",
      "metadata": {
        "id": "SEs96eAKXFxG",
        "colab_type": "code",
        "colab": {}
      },
      "source": [
        "\"\"\"\n",
        "If the given number is 582109, \n",
        "the Sum of Powers of Digits = = (5 raised to the power of 6) + (8 raised to the power of 5) + (2 raised to the power of 4) + (1 raised to the power of 3)\n",
        "+ (0 raised to the power of 2) + (9 raised to the power of 1) = 15625 + 32768 + 16 + 1 + 0 + 9 = 48419\n",
        "\n",
        "\"\"\""
      ],
      "execution_count": null,
      "outputs": []
    },
    {
      "cell_type": "code",
      "metadata": {
        "id": "quJ-dD1yaL6U",
        "colab_type": "code",
        "colab": {
          "base_uri": "https://localhost:8080/",
          "height": 35
        },
        "outputId": "7cee684c-b291-47f8-bc89-7c3eca1e83b3"
      },
      "source": [
        "import numpy as np\n",
        "\n",
        "a=00000000\n",
        "\n",
        "num=np.abs(a)\n",
        "a=str(a)\n",
        "a_=str(num)\n",
        "a=list(a)\n",
        "leng=len(a)\n",
        "\n",
        "ans=[]\n",
        "j=0\n",
        "\n",
        "for i in range(leng,0,-1):\n",
        "  a[j]=int(a[j])\n",
        "  \n",
        "  c=pow(a[j],i)\n",
        "  ans.append(c)\n",
        "  j=j+1\n",
        "summ=0\n",
        "for i in ans:\n",
        "  summ=summ+i\n",
        "print(summ)\n",
        "\n"
      ],
      "execution_count": 29,
      "outputs": [
        {
          "output_type": "stream",
          "text": [
            "0\n"
          ],
          "name": "stdout"
        }
      ]
    },
    {
      "cell_type": "code",
      "metadata": {
        "id": "w2XlkjSMaXqF",
        "colab_type": "code",
        "colab": {
          "base_uri": "https://localhost:8080/",
          "height": 35
        },
        "outputId": "0ded2683-e839-4c52-d501-a0c85fc1830d"
      },
      "source": [
        "import numpy as np \n",
        "a=-582109\n",
        "num=np.abs(a)\n",
        "a=str(a)\n",
        "a=list(a)\n",
        "\n",
        "if a[0] is '-':\n",
        "  a.remove('-')\n",
        "  l=len(a)\n",
        "  j=0\n",
        "  new=[]\n",
        "  for i in range(l):\n",
        "    j=j+1\n",
        "    a[i]=int(a[i])\n",
        "    c=pow(a[i],j)\n",
        "    new.append(c)\n",
        "  tot=0\n",
        "  for i in new:\n",
        "\n",
        "    tot=tot+i\n",
        "  tot=str(tot)\n",
        "  print('-'+tot)\n",
        "\n",
        "\n",
        "\n",
        "\n",
        "  \n"
      ],
      "execution_count": 26,
      "outputs": [
        {
          "output_type": "stream",
          "text": [
            "-531519\n"
          ],
          "name": "stdout"
        }
      ]
    },
    {
      "cell_type": "code",
      "metadata": {
        "id": "1sTxOgCKb-Ao",
        "colab_type": "code",
        "colab": {
          "base_uri": "https://localhost:8080/",
          "height": 35
        },
        "outputId": "91c51364-0f63-4f3c-fcaa-3c5f6641f325"
      },
      "source": [
        "def add_digits(string):\n",
        "    result = 0\n",
        "    for i in range(len(string)):\n",
        "        for char in string[i:]:\n",
        "            result += int(char)\n",
        "    return result\n",
        "\n",
        "print(add_digits(\"582109\"))"
      ],
      "execution_count": 30,
      "outputs": [
        {
          "output_type": "stream",
          "text": [
            "85\n"
          ],
          "name": "stdout"
        }
      ]
    },
    {
      "cell_type": "code",
      "metadata": {
        "id": "QWRiRpJji8E-",
        "colab_type": "code",
        "colab": {
          "base_uri": "https://localhost:8080/",
          "height": 126
        },
        "outputId": "e8dc2397-48d5-462f-c13c-86f4f1d47858"
      },
      "source": [
        "a=\"582109\"\n",
        "for i in a[i:]:\n",
        "  print(i)"
      ],
      "execution_count": 34,
      "outputs": [
        {
          "output_type": "stream",
          "text": [
            "5\n",
            "8\n",
            "2\n",
            "1\n",
            "0\n",
            "9\n"
          ],
          "name": "stdout"
        }
      ]
    },
    {
      "cell_type": "code",
      "metadata": {
        "id": "SG5Ca-_ojYDA",
        "colab_type": "code",
        "colab": {}
      },
      "source": [
        ""
      ],
      "execution_count": null,
      "outputs": []
    }
  ]
}